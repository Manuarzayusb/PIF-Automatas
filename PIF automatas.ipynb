{
 "cells": [
  {
   "cell_type": "markdown",
   "metadata": {},
   "source": [
    "# Automana para evaluacion de expresiones en Jupyter Python"
   ]
  },
  {
   "cell_type": "markdown",
   "metadata": {},
   "source": [
    "El automata evaluará la expresion dada y verificará si la expresion es valida."
   ]
  },
  {
   "cell_type": "markdown",
   "metadata": {},
   "source": [
    "En nuestro caso el automata va a iniciar en el estado 0 donde va a confirmar el dato ingresado y si es valido avanza\n",
    "al estado siguiente donde se va a ir evaluando la dentro del automata y confirmar si éste, es aceptado como valido"
   ]
  },
  {
   "cell_type": "code",
   "execution_count": 200,
   "metadata": {},
   "outputs": [],
   "source": [
    "import re\n",
    "\n",
    "# Especificar la funcion que determina el tipo de dato ingresado\n",
    "\n",
    "def Dato(dato):\n",
    "    global letra\n",
    "    letra=\"\"\n",
    "    global Final\n",
    "    Final=\"\"\n",
    "    letramay=\"[A-Z]\"\n",
    "    letramin=\"[a-z]\"\n",
    "    \n",
    "    if(re.match(letramay,dato)):\n",
    "        letra=\"letramay\"\n",
    "        print(dato,\"es valido\")\n",
    "    else:\n",
    "        if(re.match(letramin,dato)):\n",
    "            letra=\"letramin\"\n",
    "            print(dato,\"es valido\")\n",
    "        else:\n",
    "            if(dato==Final):\n",
    "                return 2\n",
    "        print(\"Error,\",dato,\"no es valido\")\n",
    "        exit()"
   ]
  },
  {
   "cell_type": "code",
   "execution_count": null,
   "metadata": {},
   "outputs": [],
   "source": []
  }
 ],
 "metadata": {
  "kernelspec": {
   "display_name": "Python 3 (ipykernel)",
   "language": "python",
   "name": "python3"
  },
  "language_info": {
   "codemirror_mode": {
    "name": "ipython",
    "version": 3
   },
   "file_extension": ".py",
   "mimetype": "text/x-python",
   "name": "python",
   "nbconvert_exporter": "python",
   "pygments_lexer": "ipython3",
   "version": "3.9.7"
  }
 },
 "nbformat": 4,
 "nbformat_minor": 1
}
